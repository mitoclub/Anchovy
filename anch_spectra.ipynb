{
 "cells": [
  {
   "cell_type": "code",
   "execution_count": 12,
   "metadata": {},
   "outputs": [],
   "source": [
    "import os\n",
    "import sys\n",
    "from collections import defaultdict, Counter\n",
    "from functools import reduce, partial\n",
    "\n",
    "import numpy as np\n",
    "import pandas as pd\n",
    "import matplotlib\n",
    "import matplotlib.pyplot as plt\n",
    "import seaborn as sns\n",
    "\n",
    "from pymutspec.draw import plot_mutspec12"
   ]
  },
  {
   "cell_type": "code",
   "execution_count": 4,
   "metadata": {},
   "outputs": [],
   "source": [
    "ms12a = pd.read_csv(\"./3_Derived/mutspec12/cladeA_ms12syn_iqtree.tsv\", sep=\"\\t\")\n",
    "ms12b = pd.read_csv(\"./3_Derived/mutspec12/cladeB_ms12syn_iqtree.tsv\", sep=\"\\t\")"
   ]
  },
  {
   "cell_type": "code",
   "execution_count": 73,
   "metadata": {},
   "outputs": [],
   "source": [
    "spectra = pd.read_csv(\"./2_Raw/Interim/ActinopterygiiPolymorphisms.MutSpecData.csv\")\n",
    "spectra = spectra[\n",
    "    # (spectra[\"Gene\"] == \"CytB\") & \n",
    "    (spectra[\"Species\"].str.startswith(\"Engraulis\"))]"
   ]
  },
  {
   "cell_type": "code",
   "execution_count": 74,
   "metadata": {},
   "outputs": [
    {
     "data": {
      "text/html": [
       "<div>\n",
       "<style scoped>\n",
       "    .dataframe tbody tr th:only-of-type {\n",
       "        vertical-align: middle;\n",
       "    }\n",
       "\n",
       "    .dataframe tbody tr th {\n",
       "        vertical-align: top;\n",
       "    }\n",
       "\n",
       "    .dataframe thead th {\n",
       "        text-align: right;\n",
       "    }\n",
       "</style>\n",
       "<table border=\"1\" class=\"dataframe\">\n",
       "  <thead>\n",
       "    <tr style=\"text-align: right;\">\n",
       "      <th></th>\n",
       "      <th>Species</th>\n",
       "      <th>Gene</th>\n",
       "      <th>NumOfFourFoldMut</th>\n",
       "      <th>NumberOfSeq</th>\n",
       "      <th>Class</th>\n",
       "      <th>T.heavy</th>\n",
       "      <th>A.heavy</th>\n",
       "      <th>C.heavy</th>\n",
       "      <th>G.heavy</th>\n",
       "      <th>FrA.heavy</th>\n",
       "      <th>FrT.heavy</th>\n",
       "      <th>FrG.heavy</th>\n",
       "      <th>FrC.heavy</th>\n",
       "      <th>A_G.heavy</th>\n",
       "      <th>A_T.heavy</th>\n",
       "      <th>A_C.heavy</th>\n",
       "      <th>T_G.heavy</th>\n",
       "      <th>T_A.heavy</th>\n",
       "      <th>T_C.heavy</th>\n",
       "      <th>G_T.heavy</th>\n",
       "      <th>G_C.heavy</th>\n",
       "      <th>G_A.heavy</th>\n",
       "      <th>C_G.heavy</th>\n",
       "      <th>C_T.heavy</th>\n",
       "      <th>C_A.heavy</th>\n",
       "      <th>A_G.SubstRate.heavy</th>\n",
       "      <th>A_T.SubstRate.heavy</th>\n",
       "      <th>A_C.SubstRate.heavy</th>\n",
       "      <th>T_G.SubstRate.heavy</th>\n",
       "      <th>T_A.SubstRate.heavy</th>\n",
       "      <th>T_C.SubstRate.heavy</th>\n",
       "      <th>G_T.SubstRate.heavy</th>\n",
       "      <th>G_C.SubstRate.heavy</th>\n",
       "      <th>G_A.SubstRate.heavy</th>\n",
       "      <th>C_G.SubstRate.heavy</th>\n",
       "      <th>C_T.SubstRate.heavy</th>\n",
       "      <th>C_A.SubstRate.heavy</th>\n",
       "      <th>temperature</th>\n",
       "      <th>matur_tm</th>\n",
       "    </tr>\n",
       "  </thead>\n",
       "  <tbody>\n",
       "    <tr>\n",
       "      <th>404</th>\n",
       "      <td>Engraulis_encrasicolus</td>\n",
       "      <td>CytB</td>\n",
       "      <td>46</td>\n",
       "      <td>14</td>\n",
       "      <td>Actinopterygii</td>\n",
       "      <td>1014</td>\n",
       "      <td>821</td>\n",
       "      <td>324</td>\n",
       "      <td>650</td>\n",
       "      <td>0.292275</td>\n",
       "      <td>0.360983</td>\n",
       "      <td>0.231399</td>\n",
       "      <td>0.115344</td>\n",
       "      <td>6</td>\n",
       "      <td>1</td>\n",
       "      <td>0</td>\n",
       "      <td>0</td>\n",
       "      <td>2</td>\n",
       "      <td>14</td>\n",
       "      <td>0</td>\n",
       "      <td>2</td>\n",
       "      <td>6</td>\n",
       "      <td>2</td>\n",
       "      <td>13</td>\n",
       "      <td>0</td>\n",
       "      <td>0.007308</td>\n",
       "      <td>0.001218</td>\n",
       "      <td>0.0</td>\n",
       "      <td>0.0</td>\n",
       "      <td>0.001972</td>\n",
       "      <td>0.013807</td>\n",
       "      <td>0.0</td>\n",
       "      <td>0.003077</td>\n",
       "      <td>0.009231</td>\n",
       "      <td>0.006173</td>\n",
       "      <td>0.040123</td>\n",
       "      <td>0.0</td>\n",
       "      <td>14.15</td>\n",
       "      <td>1.0</td>\n",
       "    </tr>\n",
       "  </tbody>\n",
       "</table>\n",
       "</div>"
      ],
      "text/plain": [
       "                    Species  Gene  ...  temperature  matur_tm\n",
       "404  Engraulis_encrasicolus  CytB  ...        14.15       1.0\n",
       "\n",
       "[1 rows x 39 columns]"
      ]
     },
     "execution_count": 74,
     "metadata": {},
     "output_type": "execute_result"
    }
   ],
   "source": [
    "spectra"
   ]
  },
  {
   "cell_type": "code",
   "execution_count": 75,
   "metadata": {},
   "outputs": [
    {
     "data": {
      "text/plain": [
       "Counter({'T': 331, 'G': 184, 'A': 247, 'C': 283})"
      ]
     },
     "execution_count": 75,
     "metadata": {},
     "output_type": "execute_result"
    }
   ],
   "source": [
    "Counter(\"TTTGGATCCCTTTTAGGACTATGCTTGGCCACACAAATCCTTACAGGACTTTTCCTAGCCATACACTACACCTCAGACATCGCTACCGCTTTCTCGTCAGTGGCCCACATTTGTCGAGACGTAAATTACGGGTGACTTATCCGAAATATGCATGCAAACGGAGCCTCATTCTTTTTCATCTGCATTTATGCACACATTGCTCGGGGACTGTACTACGGTTCTTATCTTTACATAGAAACTTGAAACATCGGAGTAGTACTACTTCTTTTAGTTATGATGACTGCCTTCGTTGGGTACGTACTACCCTGAGGACAAATGTCCTTCTGAGGGGCAACTGTCATTACTAACCTTATGTCTGCAGTTCCTTACGTGGGCACTGAATTAGTCCAATGAATTTGAGGAGGCTTTTCGGTCGACAACGCGACTCTTACTCGGTTCTTCGCCTTCCACTTCTTGTTCCCCTTCGTCATTGCGGGTGTTACTATCCTTCACCTTTTATTTTTACACGAAACAGGGTCTAACAACCCAGCGGGGCTCAATTCTGACGCCGATAAAATCGCATTCCACCCATACTTCTCTTATAAAGATCTCTTAGGGTTCGCAGTAATGCTGCTGGCACTAACCTCACTGGCATTATTTTCCCCTAACTTATTAGGAGACCCTGATAATTTTACCCCAGCTAATCCCCTTGTCACCCCACCTCATATTAAGCCTGAGTGATACTTCCTCTTTGCTTACGCTATTCTCCGGTCTATCCCGAACAAACTAGGTGGAGTACTTGCCCTCCTATTTTCTATTCTAGTTCTTATGGTCGTACCCATCTTGCACACCTCTAAACAACGAGGAATTACTTTCCGACCCATTACGCAGTTCCTATTCTGAACCCTTGTTGCCGACGTCATCATTCTTACATGAATCGGAGGTATGCCAGTCGAACACCCATTCATTATTATTGGTCAAGTAGCATCGCTACTCTACTTCTCTATTTTCCTTGTACTAGCTCCGGTGGCAGGATGACTAGAGAACAAAGCCCTAAACTGAAACT\")"
   ]
  },
  {
   "cell_type": "code",
   "execution_count": 76,
   "metadata": {},
   "outputs": [
    {
     "data": {
      "text/plain": [
       "Index(['Species', 'Gene', 'NumOfFourFoldMut', 'NumberOfSeq', 'Class',\n",
       "       'T.heavy', 'A.heavy', 'C.heavy', 'G.heavy', 'FrA.heavy', 'FrT.heavy',\n",
       "       'FrG.heavy', 'FrC.heavy', 'A_G.heavy', 'A_T.heavy', 'A_C.heavy',\n",
       "       'T_G.heavy', 'T_A.heavy', 'T_C.heavy', 'G_T.heavy', 'G_C.heavy',\n",
       "       'G_A.heavy', 'C_G.heavy', 'C_T.heavy', 'C_A.heavy',\n",
       "       'A_G.SubstRate.heavy', 'A_T.SubstRate.heavy', 'A_C.SubstRate.heavy',\n",
       "       'T_G.SubstRate.heavy', 'T_A.SubstRate.heavy', 'T_C.SubstRate.heavy',\n",
       "       'G_T.SubstRate.heavy', 'G_C.SubstRate.heavy', 'G_A.SubstRate.heavy',\n",
       "       'C_G.SubstRate.heavy', 'C_T.SubstRate.heavy', 'C_A.SubstRate.heavy',\n",
       "       'temperature', 'matur_tm'],\n",
       "      dtype='object')"
      ]
     },
     "execution_count": 76,
     "metadata": {},
     "output_type": "execute_result"
    }
   ],
   "source": [
    "spectra.columns"
   ]
  },
  {
   "cell_type": "code",
   "execution_count": 77,
   "metadata": {},
   "outputs": [],
   "source": [
    "columns_rate = ['A_G.SubstRate.heavy', 'A_T.SubstRate.heavy', 'A_C.SubstRate.heavy',\n",
    "       'T_G.SubstRate.heavy', 'T_A.SubstRate.heavy', 'T_C.SubstRate.heavy',\n",
    "       'G_T.SubstRate.heavy', 'G_C.SubstRate.heavy', 'G_A.SubstRate.heavy',\n",
    "       'C_G.SubstRate.heavy', 'C_T.SubstRate.heavy', 'C_A.SubstRate.heavy',]"
   ]
  },
  {
   "cell_type": "code",
   "execution_count": 78,
   "metadata": {},
   "outputs": [],
   "source": [
    "ms_some_anch = spectra[columns_rate].rename(columns=lambda x: x[:3].replace(\"_\", \">\")).T\n",
    "ms_some_anch.index.name = \"Mut\"\n",
    "ms_some_anch.columns = [\"MutSpec\"]\n",
    "ms_some_anch = ms_some_anch.reset_index()"
   ]
  },
  {
   "cell_type": "code",
   "execution_count": 79,
   "metadata": {},
   "outputs": [
    {
     "data": {
      "image/png": "[encoded data removed]",
      "text/plain": [
       "<Figure size 432x288 with 1 Axes>"
      ]
     },
     "metadata": {
      "needs_background": "light"
     },
     "output_type": "display_data"
    },
    {
     "data": {
      "text/plain": [
       "<AxesSubplot:title={'center':'Full mutational spectrum'}>"
      ]
     },
     "execution_count": 79,
     "metadata": {},
     "output_type": "execute_result"
    }
   ],
   "source": [
    "plot_mutspec12(ms_some_anch)"
   ]
  },
  {
   "cell_type": "code",
   "execution_count": 44,
   "metadata": {},
   "outputs": [],
   "source": [
    "ms12a[\"Who\"] = \"A\"\n",
    "ms12b[\"Who\"] = \"B\"\n",
    "ms_some_anch[\"Who\"] = \"Engraulis_encrasicolus\\n(old spectra)\""
   ]
  },
  {
   "cell_type": "code",
   "execution_count": 49,
   "metadata": {},
   "outputs": [],
   "source": [
    "ms_some_anch[\"MutSpec\"] = ms_some_anch[\"MutSpec\"] / ms_some_anch[\"MutSpec\"].sum()"
   ]
  },
  {
   "cell_type": "code",
   "execution_count": 52,
   "metadata": {},
   "outputs": [],
   "source": [
    "sbs12_ordered = [\"C>A\", \"G>T\", \"C>G\", \"G>C\", \"C>T\", \"G>A\", \"T>A\", \"A>T\", \"T>C\", \"A>G\", \"T>G\", \"A>C\"]"
   ]
  },
  {
   "cell_type": "code",
   "execution_count": 65,
   "metadata": {},
   "outputs": [
    {
     "data": {
      "image/png": "[encoded data removed]",
      "text/plain": [
       "<Figure size 720x432 with 1 Axes>"
      ]
     },
     "metadata": {
      "needs_background": "light"
     },
     "output_type": "display_data"
    }
   ],
   "source": [
    "plt.figure(figsize=(10, 6))\n",
    "sns.barplot(data=pd.concat([ms12a,ms12b, ms_some_anch]), x=\"Mut\", y=\"MutSpec\", hue=\"Who\", order=sbs12_ordered, palette=\"tab20\")\n",
    "plt.show()"
   ]
  },
  {
   "cell_type": "code",
   "execution_count": null,
   "metadata": {},
   "outputs": [],
   "source": []
  }
 ],
 "metadata": {
  "kernelspec": {
   "display_name": "env_bio",
   "language": "python",
   "name": "python3"
  },
  "language_info": {
   "codemirror_mode": {
    "name": "ipython",
    "version": 3
   },
   "file_extension": ".py",
   "mimetype": "text/x-python",
   "name": "python",
   "nbconvert_exporter": "python",
   "pygments_lexer": "ipython3",
   "version": "3.9.5"
  },
  "orig_nbformat": 4,
  "vscode": {
   "interpreter": {
    "hash": "1f8ac943a1f0a360cafdaeb78858a37fec7c1ca02fbfb34f84d0516267577085"
   }
  }
 },
 "nbformat": 4,
 "nbformat_minor": 2
}
