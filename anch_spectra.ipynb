{
 "cells": [
  {
   "cell_type": "code",
   "execution_count": 1,
   "metadata": {},
   "outputs": [],
   "source": [
    "import os\n",
    "import sys\n",
    "from collections import defaultdict, Counter\n",
    "from functools import reduce, partial\n",
    "\n",
    "import numpy as np\n",
    "import pandas as pd\n",
    "import matplotlib\n",
    "import matplotlib.pyplot as plt\n",
    "import seaborn as sns\n",
    "\n",
    "from pymutspec.draw import plot_mutspec12"
   ]
  },
  {
   "cell_type": "code",
   "execution_count": 2,
   "metadata": {},
   "outputs": [],
   "source": [
    "spectra = pd.read_csv(\"./2_Raw/Interim/ActinopterygiiPolymorphisms.MutSpecData.csv\")\n",
    "spectra = spectra[\n",
    "    # (spectra[\"Gene\"] == \"CytB\") & \n",
    "    (spectra[\"Species\"].str.startswith(\"Engraulis\"))]"
   ]
  },
  {
   "cell_type": "code",
   "execution_count": 3,
   "metadata": {},
   "outputs": [
    {
     "data": {
      "text/html": [
       "<div>\n",
       "<style scoped>\n",
       "    .dataframe tbody tr th:only-of-type {\n",
       "        vertical-align: middle;\n",
       "    }\n",
       "\n",
       "    .dataframe tbody tr th {\n",
       "        vertical-align: top;\n",
       "    }\n",
       "\n",
       "    .dataframe thead th {\n",
       "        text-align: right;\n",
       "    }\n",
       "</style>\n",
       "<table border=\"1\" class=\"dataframe\">\n",
       "  <thead>\n",
       "    <tr style=\"text-align: right;\">\n",
       "      <th></th>\n",
       "      <th>Species</th>\n",
       "      <th>Gene</th>\n",
       "      <th>NumOfFourFoldMut</th>\n",
       "      <th>NumberOfSeq</th>\n",
       "      <th>Class</th>\n",
       "      <th>T.heavy</th>\n",
       "      <th>A.heavy</th>\n",
       "      <th>C.heavy</th>\n",
       "      <th>G.heavy</th>\n",
       "      <th>FrA.heavy</th>\n",
       "      <th>...</th>\n",
       "      <th>T_A.SubstRate.heavy</th>\n",
       "      <th>T_C.SubstRate.heavy</th>\n",
       "      <th>G_T.SubstRate.heavy</th>\n",
       "      <th>G_C.SubstRate.heavy</th>\n",
       "      <th>G_A.SubstRate.heavy</th>\n",
       "      <th>C_G.SubstRate.heavy</th>\n",
       "      <th>C_T.SubstRate.heavy</th>\n",
       "      <th>C_A.SubstRate.heavy</th>\n",
       "      <th>temperature</th>\n",
       "      <th>matur_tm</th>\n",
       "    </tr>\n",
       "  </thead>\n",
       "  <tbody>\n",
       "    <tr>\n",
       "      <th>404</th>\n",
       "      <td>Engraulis_encrasicolus</td>\n",
       "      <td>CytB</td>\n",
       "      <td>46</td>\n",
       "      <td>14</td>\n",
       "      <td>Actinopterygii</td>\n",
       "      <td>1014</td>\n",
       "      <td>821</td>\n",
       "      <td>324</td>\n",
       "      <td>650</td>\n",
       "      <td>0.292275</td>\n",
       "      <td>...</td>\n",
       "      <td>0.001972</td>\n",
       "      <td>0.013807</td>\n",
       "      <td>0.0</td>\n",
       "      <td>0.003077</td>\n",
       "      <td>0.009231</td>\n",
       "      <td>0.006173</td>\n",
       "      <td>0.040123</td>\n",
       "      <td>0.0</td>\n",
       "      <td>14.15</td>\n",
       "      <td>1.0</td>\n",
       "    </tr>\n",
       "  </tbody>\n",
       "</table>\n",
       "<p>1 rows × 39 columns</p>\n",
       "</div>"
      ],
      "text/plain": [
       "                    Species  Gene  NumOfFourFoldMut  NumberOfSeq  \\\n",
       "404  Engraulis_encrasicolus  CytB                46           14   \n",
       "\n",
       "              Class  T.heavy  A.heavy  C.heavy  G.heavy  FrA.heavy  ...  \\\n",
       "404  Actinopterygii     1014      821      324      650   0.292275  ...   \n",
       "\n",
       "     T_A.SubstRate.heavy  T_C.SubstRate.heavy  G_T.SubstRate.heavy  \\\n",
       "404             0.001972             0.013807                  0.0   \n",
       "\n",
       "     G_C.SubstRate.heavy  G_A.SubstRate.heavy  C_G.SubstRate.heavy  \\\n",
       "404             0.003077             0.009231             0.006173   \n",
       "\n",
       "     C_T.SubstRate.heavy  C_A.SubstRate.heavy  temperature  matur_tm  \n",
       "404             0.040123                  0.0        14.15       1.0  \n",
       "\n",
       "[1 rows x 39 columns]"
      ]
     },
     "execution_count": 3,
     "metadata": {},
     "output_type": "execute_result"
    }
   ],
   "source": [
    "spectra"
   ]
  },
  {
   "cell_type": "code",
   "execution_count": 4,
   "metadata": {},
   "outputs": [
    {
     "data": {
      "text/plain": [
       "Counter({'T': 331, 'G': 184, 'A': 247, 'C': 283})"
      ]
     },
     "execution_count": 4,
     "metadata": {},
     "output_type": "execute_result"
    }
   ],
   "source": [
    "Counter(\"TTTGGATCCCTTTTAGGACTATGCTTGGCCACACAAATCCTTACAGGACTTTTCCTAGCCATACACTACACCTCAGACATCGCTACCGCTTTCTCGTCAGTGGCCCACATTTGTCGAGACGTAAATTACGGGTGACTTATCCGAAATATGCATGCAAACGGAGCCTCATTCTTTTTCATCTGCATTTATGCACACATTGCTCGGGGACTGTACTACGGTTCTTATCTTTACATAGAAACTTGAAACATCGGAGTAGTACTACTTCTTTTAGTTATGATGACTGCCTTCGTTGGGTACGTACTACCCTGAGGACAAATGTCCTTCTGAGGGGCAACTGTCATTACTAACCTTATGTCTGCAGTTCCTTACGTGGGCACTGAATTAGTCCAATGAATTTGAGGAGGCTTTTCGGTCGACAACGCGACTCTTACTCGGTTCTTCGCCTTCCACTTCTTGTTCCCCTTCGTCATTGCGGGTGTTACTATCCTTCACCTTTTATTTTTACACGAAACAGGGTCTAACAACCCAGCGGGGCTCAATTCTGACGCCGATAAAATCGCATTCCACCCATACTTCTCTTATAAAGATCTCTTAGGGTTCGCAGTAATGCTGCTGGCACTAACCTCACTGGCATTATTTTCCCCTAACTTATTAGGAGACCCTGATAATTTTACCCCAGCTAATCCCCTTGTCACCCCACCTCATATTAAGCCTGAGTGATACTTCCTCTTTGCTTACGCTATTCTCCGGTCTATCCCGAACAAACTAGGTGGAGTACTTGCCCTCCTATTTTCTATTCTAGTTCTTATGGTCGTACCCATCTTGCACACCTCTAAACAACGAGGAATTACTTTCCGACCCATTACGCAGTTCCTATTCTGAACCCTTGTTGCCGACGTCATCATTCTTACATGAATCGGAGGTATGCCAGTCGAACACCCATTCATTATTATTGGTCAAGTAGCATCGCTACTCTACTTCTCTATTTTCCTTGTACTAGCTCCGGTGGCAGGATGACTAGAGAACAAAGCCCTAAACTGAAACT\")"
   ]
  },
  {
   "cell_type": "code",
   "execution_count": 5,
   "metadata": {},
   "outputs": [
    {
     "data": {
      "text/plain": [
       "Index(['Species', 'Gene', 'NumOfFourFoldMut', 'NumberOfSeq', 'Class',\n",
       "       'T.heavy', 'A.heavy', 'C.heavy', 'G.heavy', 'FrA.heavy', 'FrT.heavy',\n",
       "       'FrG.heavy', 'FrC.heavy', 'A_G.heavy', 'A_T.heavy', 'A_C.heavy',\n",
       "       'T_G.heavy', 'T_A.heavy', 'T_C.heavy', 'G_T.heavy', 'G_C.heavy',\n",
       "       'G_A.heavy', 'C_G.heavy', 'C_T.heavy', 'C_A.heavy',\n",
       "       'A_G.SubstRate.heavy', 'A_T.SubstRate.heavy', 'A_C.SubstRate.heavy',\n",
       "       'T_G.SubstRate.heavy', 'T_A.SubstRate.heavy', 'T_C.SubstRate.heavy',\n",
       "       'G_T.SubstRate.heavy', 'G_C.SubstRate.heavy', 'G_A.SubstRate.heavy',\n",
       "       'C_G.SubstRate.heavy', 'C_T.SubstRate.heavy', 'C_A.SubstRate.heavy',\n",
       "       'temperature', 'matur_tm'],\n",
       "      dtype='object')"
      ]
     },
     "execution_count": 5,
     "metadata": {},
     "output_type": "execute_result"
    }
   ],
   "source": [
    "spectra.columns"
   ]
  },
  {
   "cell_type": "code",
   "execution_count": 6,
   "metadata": {},
   "outputs": [],
   "source": [
    "columns_rate = ['A_G.SubstRate.heavy', 'A_T.SubstRate.heavy', 'A_C.SubstRate.heavy',\n",
    "       'T_G.SubstRate.heavy', 'T_A.SubstRate.heavy', 'T_C.SubstRate.heavy',\n",
    "       'G_T.SubstRate.heavy', 'G_C.SubstRate.heavy', 'G_A.SubstRate.heavy',\n",
    "       'C_G.SubstRate.heavy', 'C_T.SubstRate.heavy', 'C_A.SubstRate.heavy',]"
   ]
  },
  {
   "cell_type": "code",
   "execution_count": 7,
   "metadata": {},
   "outputs": [],
   "source": [
    "ms_some_anch = spectra[columns_rate].rename(columns=lambda x: x[:3].replace(\"_\", \">\")).T\n",
    "ms_some_anch.index.name = \"Mut\"\n",
    "ms_some_anch.columns = [\"MutSpec\"]\n",
    "ms_some_anch = ms_some_anch.reset_index()"
   ]
  },
  {
   "cell_type": "code",
   "execution_count": 8,
   "metadata": {},
   "outputs": [
    {
     "data": {
      "image/png": "[encoded data removed]",
      "text/plain": [
       "<Figure size 432x288 with 1 Axes>"
      ]
     },
     "metadata": {
      "needs_background": "light"
     },
     "output_type": "display_data"
    },
    {
     "data": {
      "text/plain": [
       "<AxesSubplot:title={'center':'Full mutational spectrum'}>"
      ]
     },
     "execution_count": 8,
     "metadata": {},
     "output_type": "execute_result"
    }
   ],
   "source": [
    "plot_mutspec12(ms_some_anch)"
   ]
  },
  {
   "cell_type": "code",
   "execution_count": 11,
   "metadata": {},
   "outputs": [],
   "source": [
    "ms_some_anch[\"MutSpec\"] = ms_some_anch[\"MutSpec\"] / ms_some_anch[\"MutSpec\"].sum()\n",
    "ms_some_anch[\"Who\"] = \"Engraulis_encrasicolus\\n(old spectra)\"\n",
    "\n",
    "sbs12_ordered = [\"C>A\", \"G>T\", \"C>G\", \"G>C\", \"C>T\", \"G>A\", \"T>A\", \"A>T\", \"T>C\", \"A>G\", \"T>G\", \"A>C\"]"
   ]
  },
  {
   "attachments": {},
   "cell_type": "markdown",
   "metadata": {},
   "source": [
    "## ms12syn"
   ]
  },
  {
   "cell_type": "code",
   "execution_count": 30,
   "metadata": {},
   "outputs": [
    {
     "data": {
      "image/png": "[encoded data removed]",
      "text/plain": [
       "<Figure size 720x432 with 1 Axes>"
      ]
     },
     "metadata": {
      "needs_background": "light"
     },
     "output_type": "display_data"
    }
   ],
   "source": [
    "ms12a = pd.read_csv(\"./3_Derived/mutspec12/cladeA_ms12syn_iqtree.tsv\", sep=\"\\t\")\n",
    "ms12b = pd.read_csv(\"./3_Derived/mutspec12/cladeB_ms12syn_iqtree.tsv\", sep=\"\\t\")\n",
    "\n",
    "ms12a[\"Who\"] = \"A\"\n",
    "ms12b[\"Who\"] = \"B\"\n",
    "\n",
    "plt.figure(figsize=(10, 6))\n",
    "plt.title(\"ms12syn\")\n",
    "sns.barplot(data=pd.concat([ms12a,ms12b, ms_some_anch]), x=\"Mut\", y=\"MutSpec\", hue=\"Who\", order=sbs12_ordered, palette=\"tab20\")\n",
    "plt.show()"
   ]
  },
  {
   "cell_type": "code",
   "execution_count": 31,
   "metadata": {},
   "outputs": [
    {
     "data": {
      "text/html": [
       "<div>\n",
       "<style scoped>\n",
       "    .dataframe tbody tr th:only-of-type {\n",
       "        vertical-align: middle;\n",
       "    }\n",
       "\n",
       "    .dataframe tbody tr th {\n",
       "        vertical-align: top;\n",
       "    }\n",
       "\n",
       "    .dataframe thead th {\n",
       "        text-align: right;\n",
       "    }\n",
       "</style>\n",
       "<table border=\"1\" class=\"dataframe\">\n",
       "  <thead>\n",
       "    <tr style=\"text-align: right;\">\n",
       "      <th></th>\n",
       "      <th>Mut</th>\n",
       "      <th>ObsNum</th>\n",
       "      <th>ExpNum</th>\n",
       "      <th>MutSpec</th>\n",
       "      <th>Who</th>\n",
       "    </tr>\n",
       "  </thead>\n",
       "  <tbody>\n",
       "    <tr>\n",
       "      <th>10</th>\n",
       "      <td>A&gt;C</td>\n",
       "      <td>0.000000</td>\n",
       "      <td>56.444381</td>\n",
       "      <td>0.000000</td>\n",
       "      <td>A</td>\n",
       "    </tr>\n",
       "    <tr>\n",
       "      <th>7</th>\n",
       "      <td>A&gt;G</td>\n",
       "      <td>26.836862</td>\n",
       "      <td>103.737991</td>\n",
       "      <td>0.089019</td>\n",
       "      <td>A</td>\n",
       "    </tr>\n",
       "    <tr>\n",
       "      <th>8</th>\n",
       "      <td>A&gt;T</td>\n",
       "      <td>0.000000</td>\n",
       "      <td>56.444381</td>\n",
       "      <td>0.000000</td>\n",
       "      <td>A</td>\n",
       "    </tr>\n",
       "    <tr>\n",
       "      <th>11</th>\n",
       "      <td>C&gt;A</td>\n",
       "      <td>0.000000</td>\n",
       "      <td>21.385701</td>\n",
       "      <td>0.000000</td>\n",
       "      <td>A</td>\n",
       "    </tr>\n",
       "    <tr>\n",
       "      <th>6</th>\n",
       "      <td>C&gt;G</td>\n",
       "      <td>7.983803</td>\n",
       "      <td>21.385701</td>\n",
       "      <td>0.128462</td>\n",
       "      <td>A</td>\n",
       "    </tr>\n",
       "    <tr>\n",
       "      <th>5</th>\n",
       "      <td>C&gt;T</td>\n",
       "      <td>44.332619</td>\n",
       "      <td>36.891280</td>\n",
       "      <td>0.413510</td>\n",
       "      <td>A</td>\n",
       "    </tr>\n",
       "    <tr>\n",
       "      <th>4</th>\n",
       "      <td>G&gt;A</td>\n",
       "      <td>20.014386</td>\n",
       "      <td>132.509290</td>\n",
       "      <td>0.051974</td>\n",
       "      <td>A</td>\n",
       "    </tr>\n",
       "    <tr>\n",
       "      <th>3</th>\n",
       "      <td>G&gt;C</td>\n",
       "      <td>0.993946</td>\n",
       "      <td>40.935287</td>\n",
       "      <td>0.008355</td>\n",
       "      <td>A</td>\n",
       "    </tr>\n",
       "    <tr>\n",
       "      <th>9</th>\n",
       "      <td>G&gt;T</td>\n",
       "      <td>0.000000</td>\n",
       "      <td>40.935287</td>\n",
       "      <td>0.000000</td>\n",
       "      <td>A</td>\n",
       "    </tr>\n",
       "    <tr>\n",
       "      <th>2</th>\n",
       "      <td>T&gt;A</td>\n",
       "      <td>6.974850</td>\n",
       "      <td>66.705291</td>\n",
       "      <td>0.035980</td>\n",
       "      <td>A</td>\n",
       "    </tr>\n",
       "    <tr>\n",
       "      <th>1</th>\n",
       "      <td>T&gt;C</td>\n",
       "      <td>80.505302</td>\n",
       "      <td>103.534644</td>\n",
       "      <td>0.267563</td>\n",
       "      <td>A</td>\n",
       "    </tr>\n",
       "    <tr>\n",
       "      <th>0</th>\n",
       "      <td>T&gt;G</td>\n",
       "      <td>0.996013</td>\n",
       "      <td>66.705291</td>\n",
       "      <td>0.005138</td>\n",
       "      <td>A</td>\n",
       "    </tr>\n",
       "  </tbody>\n",
       "</table>\n",
       "</div>"
      ],
      "text/plain": [
       "    Mut     ObsNum      ExpNum   MutSpec Who\n",
       "10  A>C   0.000000   56.444381  0.000000   A\n",
       "7   A>G  26.836862  103.737991  0.089019   A\n",
       "8   A>T   0.000000   56.444381  0.000000   A\n",
       "11  C>A   0.000000   21.385701  0.000000   A\n",
       "6   C>G   7.983803   21.385701  0.128462   A\n",
       "5   C>T  44.332619   36.891280  0.413510   A\n",
       "4   G>A  20.014386  132.509290  0.051974   A\n",
       "3   G>C   0.993946   40.935287  0.008355   A\n",
       "9   G>T   0.000000   40.935287  0.000000   A\n",
       "2   T>A   6.974850   66.705291  0.035980   A\n",
       "1   T>C  80.505302  103.534644  0.267563   A\n",
       "0   T>G   0.996013   66.705291  0.005138   A"
      ]
     },
     "execution_count": 31,
     "metadata": {},
     "output_type": "execute_result"
    }
   ],
   "source": [
    "ms12a.sort_values(\"Mut\")"
   ]
  },
  {
   "cell_type": "code",
   "execution_count": 29,
   "metadata": {},
   "outputs": [
    {
     "data": {
      "text/html": [
       "<div>\n",
       "<style scoped>\n",
       "    .dataframe tbody tr th:only-of-type {\n",
       "        vertical-align: middle;\n",
       "    }\n",
       "\n",
       "    .dataframe tbody tr th {\n",
       "        vertical-align: top;\n",
       "    }\n",
       "\n",
       "    .dataframe thead th {\n",
       "        text-align: right;\n",
       "    }\n",
       "</style>\n",
       "<table border=\"1\" class=\"dataframe\">\n",
       "  <thead>\n",
       "    <tr style=\"text-align: right;\">\n",
       "      <th></th>\n",
       "      <th>Mut</th>\n",
       "      <th>ObsNum</th>\n",
       "      <th>ExpNum</th>\n",
       "      <th>MutSpec</th>\n",
       "      <th>Who</th>\n",
       "    </tr>\n",
       "  </thead>\n",
       "  <tbody>\n",
       "    <tr>\n",
       "      <th>10</th>\n",
       "      <td>A&gt;C</td>\n",
       "      <td>0.994229</td>\n",
       "      <td>58.733574</td>\n",
       "      <td>0.002582</td>\n",
       "      <td>A</td>\n",
       "    </tr>\n",
       "    <tr>\n",
       "      <th>9</th>\n",
       "      <td>A&gt;G</td>\n",
       "      <td>77.672470</td>\n",
       "      <td>109.668599</td>\n",
       "      <td>0.108017</td>\n",
       "      <td>A</td>\n",
       "    </tr>\n",
       "    <tr>\n",
       "      <th>8</th>\n",
       "      <td>A&gt;T</td>\n",
       "      <td>6.970555</td>\n",
       "      <td>58.733574</td>\n",
       "      <td>0.018100</td>\n",
       "      <td>A</td>\n",
       "    </tr>\n",
       "    <tr>\n",
       "      <th>11</th>\n",
       "      <td>C&gt;A</td>\n",
       "      <td>0.000000</td>\n",
       "      <td>23.613922</td>\n",
       "      <td>0.000000</td>\n",
       "      <td>A</td>\n",
       "    </tr>\n",
       "    <tr>\n",
       "      <th>7</th>\n",
       "      <td>C&gt;G</td>\n",
       "      <td>9.951780</td>\n",
       "      <td>23.613922</td>\n",
       "      <td>0.064275</td>\n",
       "      <td>A</td>\n",
       "    </tr>\n",
       "    <tr>\n",
       "      <th>6</th>\n",
       "      <td>C&gt;T</td>\n",
       "      <td>117.367096</td>\n",
       "      <td>40.311262</td>\n",
       "      <td>0.444045</td>\n",
       "      <td>A</td>\n",
       "    </tr>\n",
       "    <tr>\n",
       "      <th>5</th>\n",
       "      <td>G&gt;A</td>\n",
       "      <td>68.683522</td>\n",
       "      <td>126.899840</td>\n",
       "      <td>0.082546</td>\n",
       "      <td>A</td>\n",
       "    </tr>\n",
       "    <tr>\n",
       "      <th>4</th>\n",
       "      <td>G&gt;C</td>\n",
       "      <td>3.983781</td>\n",
       "      <td>40.078840</td>\n",
       "      <td>0.015160</td>\n",
       "      <td>A</td>\n",
       "    </tr>\n",
       "    <tr>\n",
       "      <th>3</th>\n",
       "      <td>G&gt;T</td>\n",
       "      <td>6.970912</td>\n",
       "      <td>40.078840</td>\n",
       "      <td>0.026527</td>\n",
       "      <td>A</td>\n",
       "    </tr>\n",
       "    <tr>\n",
       "      <th>2</th>\n",
       "      <td>T&gt;A</td>\n",
       "      <td>8.943068</td>\n",
       "      <td>63.337180</td>\n",
       "      <td>0.021535</td>\n",
       "      <td>A</td>\n",
       "    </tr>\n",
       "    <tr>\n",
       "      <th>1</th>\n",
       "      <td>T&gt;C</td>\n",
       "      <td>137.090610</td>\n",
       "      <td>98.425333</td>\n",
       "      <td>0.212426</td>\n",
       "      <td>A</td>\n",
       "    </tr>\n",
       "    <tr>\n",
       "      <th>0</th>\n",
       "      <td>T&gt;G</td>\n",
       "      <td>1.988365</td>\n",
       "      <td>63.337180</td>\n",
       "      <td>0.004788</td>\n",
       "      <td>A</td>\n",
       "    </tr>\n",
       "  </tbody>\n",
       "</table>\n",
       "</div>"
      ],
      "text/plain": [
       "    Mut      ObsNum      ExpNum   MutSpec Who\n",
       "10  A>C    0.994229   58.733574  0.002582   A\n",
       "9   A>G   77.672470  109.668599  0.108017   A\n",
       "8   A>T    6.970555   58.733574  0.018100   A\n",
       "11  C>A    0.000000   23.613922  0.000000   A\n",
       "7   C>G    9.951780   23.613922  0.064275   A\n",
       "6   C>T  117.367096   40.311262  0.444045   A\n",
       "5   G>A   68.683522  126.899840  0.082546   A\n",
       "4   G>C    3.983781   40.078840  0.015160   A\n",
       "3   G>T    6.970912   40.078840  0.026527   A\n",
       "2   T>A    8.943068   63.337180  0.021535   A\n",
       "1   T>C  137.090610   98.425333  0.212426   A\n",
       "0   T>G    1.988365   63.337180  0.004788   A"
      ]
     },
     "execution_count": 29,
     "metadata": {},
     "output_type": "execute_result"
    }
   ],
   "source": [
    "ms12a2.sort_values(\"Mut\")"
   ]
  },
  {
   "cell_type": "code",
   "execution_count": 25,
   "metadata": {},
   "outputs": [
    {
     "data": {
      "image/png": "[encoded data removed]",
      "text/plain": [
       "<Figure size 720x432 with 1 Axes>"
      ]
     },
     "metadata": {
      "needs_background": "light"
     },
     "output_type": "display_data"
    }
   ],
   "source": [
    "ms12a2 = pd.read_csv(\"./3_Derived/mutspec12/cladeA_ms12syn_iqtree2.tsv\", sep=\"\\t\")\n",
    "ms12b2 = pd.read_csv(\"./3_Derived/mutspec12/cladeB_ms12syn_iqtree2.tsv\", sep=\"\\t\")\n",
    "\n",
    "ms12a2[\"Who\"] = \"A\"\n",
    "ms12b2[\"Who\"] = \"B\"\n",
    "\n",
    "plt.figure(figsize=(10, 6))\n",
    "plt.title(\"ms12syn\")\n",
    "sns.barplot(data=pd.concat([ms12a2,ms12b2, ms_some_anch]), x=\"Mut\", y=\"MutSpec\", hue=\"Who\", order=sbs12_ordered, palette=\"tab20\")\n",
    "plt.show()"
   ]
  },
  {
   "cell_type": "code",
   "execution_count": 15,
   "metadata": {},
   "outputs": [
    {
     "data": {
      "image/png": "[encoded data removed]",
      "text/plain": [
       "<Figure size 720x432 with 1 Axes>"
      ]
     },
     "metadata": {
      "needs_background": "light"
     },
     "output_type": "display_data"
    }
   ],
   "source": [
    "ms12a = pd.read_csv(\"./3_Derived/mutspec12/cladeA_ms12syn_internal_iqtree.tsv\", sep=\"\\t\")\n",
    "ms12b = pd.read_csv(\"./3_Derived/mutspec12/cladeB_ms12syn_internal_iqtree.tsv\", sep=\"\\t\")\n",
    "\n",
    "ms12a[\"Who\"] = \"A\"\n",
    "ms12b[\"Who\"] = \"B\"\n",
    "\n",
    "plt.figure(figsize=(10, 6))\n",
    "plt.title(\"ms12syn internal\")\n",
    "sns.barplot(data=pd.concat([ms12a,ms12b, ms_some_anch]), x=\"Mut\", y=\"MutSpec\", hue=\"Who\", order=sbs12_ordered, palette=\"tab20\")\n",
    "plt.show()"
   ]
  },
  {
   "cell_type": "code",
   "execution_count": 19,
   "metadata": {},
   "outputs": [
    {
     "data": {
      "image/png": "[encoded data removed]",
      "text/plain": [
       "<Figure size 720x432 with 1 Axes>"
      ]
     },
     "metadata": {
      "needs_background": "light"
     },
     "output_type": "display_data"
    }
   ],
   "source": [
    "ms12a = pd.read_csv(\"./3_Derived/mutspec12/cladeA_ms12ff_iqtree.tsv\", sep=\"\\t\")\n",
    "ms12b = pd.read_csv(\"./3_Derived/mutspec12/cladeB_ms12ff_iqtree.tsv\", sep=\"\\t\")\n",
    "\n",
    "ms12a[\"Who\"] = \"A\"\n",
    "ms12b[\"Who\"] = \"B\"\n",
    "\n",
    "plt.figure(figsize=(10, 6))\n",
    "plt.title(\"ms12ff internal\")\n",
    "sns.barplot(data=pd.concat([ms12a,ms12b, ms_some_anch]), x=\"Mut\", y=\"MutSpec\", hue=\"Who\", order=sbs12_ordered, palette=\"tab20\")\n",
    "plt.show()"
   ]
  },
  {
   "cell_type": "code",
   "execution_count": 20,
   "metadata": {},
   "outputs": [
    {
     "data": {
      "image/png": "[encoded data removed]",
      "text/plain": [
       "<Figure size 720x432 with 1 Axes>"
      ]
     },
     "metadata": {
      "needs_background": "light"
     },
     "output_type": "display_data"
    }
   ],
   "source": [
    "ms12a = pd.read_csv(\"./3_Derived/mutspec12/cladeA_ms12ff_internal_iqtree.tsv\", sep=\"\\t\")\n",
    "ms12b = pd.read_csv(\"./3_Derived/mutspec12/cladeB_ms12ff_internal_iqtree.tsv\", sep=\"\\t\")\n",
    "\n",
    "ms12a[\"Who\"] = \"A\"\n",
    "ms12b[\"Who\"] = \"B\"\n",
    "\n",
    "plt.figure(figsize=(10, 6))\n",
    "plt.title(\"ms12ff internal\")\n",
    "sns.barplot(data=pd.concat([ms12a,ms12b, ms_some_anch]), x=\"Mut\", y=\"MutSpec\", hue=\"Who\", order=sbs12_ordered, palette=\"tab20\")\n",
    "plt.show()"
   ]
  },
  {
   "cell_type": "code",
   "execution_count": null,
   "metadata": {},
   "outputs": [],
   "source": []
  }
 ],
 "metadata": {
  "kernelspec": {
   "display_name": "env_bio",
   "language": "python",
   "name": "python3"
  },
  "language_info": {
   "codemirror_mode": {
    "name": "ipython",
    "version": 3
   },
   "file_extension": ".py",
   "mimetype": "text/x-python",
   "name": "python",
   "nbconvert_exporter": "python",
   "pygments_lexer": "ipython3",
   "version": "3.9.5"
  },
  "orig_nbformat": 4,
  "vscode": {
   "interpreter": {
    "hash": "1f8ac943a1f0a360cafdaeb78858a37fec7c1ca02fbfb34f84d0516267577085"
   }
  }
 },
 "nbformat": 4,
 "nbformat_minor": 2
}
